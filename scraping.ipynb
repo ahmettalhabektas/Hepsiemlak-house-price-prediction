{
 "cells": [
  {
   "cell_type": "markdown",
   "metadata": {},
   "source": [
    "# Importing  necesarry Libraries"
   ]
  },
  {
   "cell_type": "code",
   "execution_count": 1,
   "metadata": {},
   "outputs": [
    {
     "name": "stderr",
     "output_type": "stream",
     "text": [
      "c:\\Users\\ahmet\\anaconda3\\lib\\site-packages\\pandas\\core\\arrays\\masked.py:60: UserWarning: Pandas requires version '1.3.6' or newer of 'bottleneck' (version '1.3.5' currently installed).\n",
      "  from pandas.core import (\n"
     ]
    }
   ],
   "source": [
    "import requests\n",
    "from bs4 import BeautifulSoup\n",
    "import pandas as pd\n",
    "import time\n",
    "from requests_html import HTMLSession"
   ]
  },
  {
   "cell_type": "markdown",
   "metadata": {},
   "source": [
    "## A tutorial for how scrape features of houses"
   ]
  },
  {
   "cell_type": "code",
   "execution_count": 2,
   "metadata": {},
   "outputs": [],
   "source": [
    "base_url=\"https://www.hepsiemlak.com/istanbul-kiralik?page=3\"\n",
    "\n",
    "headers={\n",
    "    \"User-Agent\":\"Mozilla/5.0 (Windows NT 10.0; Win64; x64) AppleWebKit/537.36 (KHTML, like Gecko) Chrome/107.0.0.0 Safari/537.36\"\n",
    "}"
   ]
  },
  {
   "cell_type": "code",
   "execution_count": 3,
   "metadata": {},
   "outputs": [
    {
     "data": {
      "text/plain": [
       "200"
      ]
     },
     "execution_count": 3,
     "metadata": {},
     "output_type": "execute_result"
    }
   ],
   "source": [
    "response=requests.get(base_url,headers=headers)\n",
    "response.status_code # if 200 then good"
   ]
  },
  {
   "cell_type": "code",
   "execution_count": 4,
   "metadata": {},
   "outputs": [],
   "source": [
    "soup=BeautifulSoup(response.content,\"lxml\")\n",
    "# rendering by BeautifulSoup"
   ]
  },
  {
   "cell_type": "code",
   "execution_count": 5,
   "metadata": {},
   "outputs": [
    {
     "data": {
      "text/plain": [
       "<a class=\"img-link\" data-v-24b31bdc=\"\" href=\"/istanbul-beykoz-kavacik-kiralik/daire/146196-5\" rel=\"bookmark\" title=\"KAVACIK’TA ERKEK APART ODALAR\"><!-- --> <figure data-v-24b31bdc=\"\"><picture data-v-24b31bdc=\"\"><img alt=\"KAVACIK’TA ERKEK APART ODALAR\" class=\"list-view-image ignore-lazy\" data-v-24b31bdc=\"\" decoding=\"async\" fetchpriority=\"high\" height=\"166\" src=\"https://hecdn01.hemlak.com/mncropresize/182/166/ds01/9/8/7/3/6/8/2/4/1719326232-819398-42863789.jpeg\" title=\"KAVACIK’TA ERKEK APART ODALAR\" width=\"182\"/></picture></figure> <!-- --> <div class=\"spec-info\" data-v-24b31bdc=\"\"><div class=\"spec spec--photo-spec\" data-v-24b31bdc=\"\"><span class=\"he-icon he-icon__middleGray he-icon--camera_spec\" data-v-24b31bdc=\"\"><svg fill=\"none\" viewbox=\"0 0 20 18\" xmlns=\"http://www.w3.org/2000/svg\"><path d=\"M10 13.2C11.7674 13.2 13.2 11.7674 13.2 10C13.2 8.23274 11.7674 6.80005 10 6.80005C8.23274 6.80005 6.80005 8.23274 6.80005 10C6.80005 11.7674 8.23274 13.2 10 13.2Z\" fill=\"currentColor\"></path><path d=\"M7 0L5.17 2H2C0.9 2 0 2.9 0 4V16C0 17.1 0.9 18 2 18H18C19.1 18 20 17.1 20 16V4C20 2.9 19.1 2 18 2H14.83L13 0H7ZM10 15C7.24 15 5 12.76 5 10C5 7.24 7.24 5 10 5C12.76 5 15 7.24 15 10C15 12.76 12.76 15 10 15Z\" fill=\"currentColor\"></path></svg></span> <span class=\"photo-count photo-spec-text\" data-v-24b31bdc=\"\">9</span></div> <!-- --> <!-- --> <div class=\"spec\" data-v-24b31bdc=\"\"><i class=\"icon-live-call\" data-v-24b31bdc=\"\"></i></div></div></a>"
      ]
     },
     "execution_count": 5,
     "metadata": {},
     "output_type": "execute_result"
    }
   ],
   "source": [
    "links=soup.find_all(\"a\",rel=\"bookmark\")\n",
    "links[0] # example element"
   ]
  },
  {
   "cell_type": "code",
   "execution_count": 6,
   "metadata": {},
   "outputs": [
    {
     "data": {
      "text/plain": [
       "24"
      ]
     },
     "execution_count": 6,
     "metadata": {},
     "output_type": "execute_result"
    }
   ],
   "source": [
    "len(soup.find_all(\"a\",rel=\"bookmark\"))"
   ]
  },
  {
   "cell_type": "markdown",
   "metadata": {},
   "source": [
    "We have 24 houses at one pages.\n",
    "\n",
    "\n",
    "Let's start with entering one page of house"
   ]
  },
  {
   "cell_type": "code",
   "execution_count": 7,
   "metadata": {},
   "outputs": [],
   "source": [
    "home_url=\"https://www.hepsiemlak.com\"+links[0][\"href\"]"
   ]
  },
  {
   "cell_type": "code",
   "execution_count": 8,
   "metadata": {},
   "outputs": [
    {
     "data": {
      "text/plain": [
       "200"
      ]
     },
     "execution_count": 8,
     "metadata": {},
     "output_type": "execute_result"
    }
   ],
   "source": [
    "r_home=requests.get(home_url,headers=headers)\n",
    "r_home.status_code # if 200 then it is fine"
   ]
  },
  {
   "cell_type": "code",
   "execution_count": 9,
   "metadata": {},
   "outputs": [],
   "source": [
    "s_home=BeautifulSoup(r_home.content,\"lxml\")"
   ]
  },
  {
   "cell_type": "code",
   "execution_count": 10,
   "metadata": {},
   "outputs": [
    {
     "data": {
      "text/plain": [
       "<div class=\"spec-groups\" data-v-21662d1e=\"\"><ul class=\"adv-info-list\" data-v-21662d1e=\"\"><li class=\"spec-item\" data-v-21662d1e=\"\"><span class=\"txt\" data-v-21662d1e=\"\">İlan no</span> <span data-v-21662d1e=\"\">146196-5</span></li><li class=\"spec-item\" data-v-21662d1e=\"\"><span class=\"txt\" data-v-21662d1e=\"\">Son Güncelleme Tarihi</span> <span data-v-21662d1e=\"\">25-06-2024</span></li><li class=\"spec-item\" data-v-21662d1e=\"\"><span class=\"txt\" data-v-21662d1e=\"\">İlan Durumu</span> <a data-v-21662d1e=\"\" href=\"/kiralik\">Kiralık</a></li><li class=\"spec-item\" data-v-21662d1e=\"\"><span class=\"txt\" data-v-21662d1e=\"\">Konut Tipi</span> <span data-v-21662d1e=\"\">Daire</span></li><li class=\"spec-item\" data-v-21662d1e=\"\"><span class=\"txt\" data-v-21662d1e=\"\">Konut Şekli</span> <a data-v-21662d1e=\"\" href=\"/daire\">Daire</a></li><li class=\"spec-item\" data-v-21662d1e=\"\"><span class=\"txt\" data-v-21662d1e=\"\">Oda + Salon Sayısı</span> <span data-v-21662d1e=\"\">2 + 1</span></li><li class=\"spec-item\" data-v-21662d1e=\"\"><span class=\"txt\" data-v-21662d1e=\"\">Brüt / Net M2</span> <span data-v-21662d1e=\"\">\n",
       "                          90 m2\n",
       "                        </span><span data-v-21662d1e=\"\">\n",
       "                           / 80 m2\n",
       "                        </span></li><li class=\"spec-item\" data-v-21662d1e=\"\"><span class=\"txt\" data-v-21662d1e=\"\">Bulunduğu Kat</span> <span data-v-21662d1e=\"\">Giriş Katı</span></li><li class=\"spec-item\" data-v-21662d1e=\"\"><span class=\"txt\" data-v-21662d1e=\"\">Bina Yaşı</span> <span data-v-21662d1e=\"\">25 Yaşında</span></li><li class=\"spec-item\" data-v-21662d1e=\"\"><span class=\"txt\" data-v-21662d1e=\"\">Isınma Tipi</span> <span data-v-21662d1e=\"\">Kombi</span></li><li class=\"spec-item\" data-v-21662d1e=\"\"><span class=\"txt\" data-v-21662d1e=\"\">Kat Sayısı</span> <span data-v-21662d1e=\"\">4 Katlı</span></li></ul><ul class=\"adv-info-list\" data-v-21662d1e=\"\"><li class=\"spec-item\" data-v-21662d1e=\"\"><span class=\"txt\" data-v-21662d1e=\"\">Eşya Durumu</span> <span data-v-21662d1e=\"\">Eşyalı</span></li><li class=\"spec-item\" data-v-21662d1e=\"\"><span class=\"txt\" data-v-21662d1e=\"\">Banyo Sayısı</span> <span data-v-21662d1e=\"\">1</span></li><li class=\"spec-item\" data-v-21662d1e=\"\"><span class=\"txt\" data-v-21662d1e=\"\">Yapı Tipi</span> <span data-v-21662d1e=\"\">Betonarme</span></li><li class=\"spec-item\" data-v-21662d1e=\"\"><span class=\"txt\" data-v-21662d1e=\"\">Yapının Durumu</span> <span data-v-21662d1e=\"\">İkinci El</span></li><li class=\"spec-item\" data-v-21662d1e=\"\"><span class=\"txt\" data-v-21662d1e=\"\">Kullanım Durumu</span> <span data-v-21662d1e=\"\">Boş</span></li><li class=\"spec-item\" data-v-21662d1e=\"\"><span class=\"txt\" data-v-21662d1e=\"\">Aidat</span> <span data-v-21662d1e=\"\">1 TL</span></li><li class=\"spec-item\" data-v-21662d1e=\"\"><span class=\"txt\" data-v-21662d1e=\"\">Cephe</span> <span data-v-21662d1e=\"\">Batı</span></li><li class=\"spec-item\" data-v-21662d1e=\"\"><span class=\"txt\" data-v-21662d1e=\"\">Depozito</span> <span data-v-21662d1e=\"\">8.000 TL</span></li><li class=\"spec-item\" data-v-21662d1e=\"\"><span class=\"txt\" data-v-21662d1e=\"\">Yakıt Tipi</span> <span data-v-21662d1e=\"\">Doğalgaz</span></li><li class=\"spec-item\" data-v-21662d1e=\"\"><span class=\"txt\" data-v-21662d1e=\"\">Yetkili Ofis</span> <span data-v-21662d1e=\"\">Evet</span></li></ul></div>"
      ]
     },
     "execution_count": 10,
     "metadata": {},
     "output_type": "execute_result"
    }
   ],
   "source": [
    "s_home.find(\"div\", class_=\"spec-groups\")\n",
    "# finding features div"
   ]
  },
  {
   "cell_type": "code",
   "execution_count": 11,
   "metadata": {},
   "outputs": [
    {
     "data": {
      "text/plain": [
       "'8.000 TL'"
      ]
     },
     "execution_count": 11,
     "metadata": {},
     "output_type": "execute_result"
    }
   ],
   "source": [
    "s_home.find(\"p\", class_=\"price\").text.strip()\n",
    "# finding price"
   ]
  },
  {
   "cell_type": "code",
   "execution_count": 12,
   "metadata": {},
   "outputs": [
    {
     "data": {
      "text/plain": [
       "{'İlan no': '146196-5',\n",
       " 'Son Güncelleme Tarihi': '25-06-2024',\n",
       " 'İlan Durumu': 'İlan Durumu',\n",
       " 'Konut Tipi': 'Daire',\n",
       " 'Konut Şekli': 'Konut Şekli',\n",
       " 'Oda + Salon Sayısı': '2 + 1',\n",
       " 'Brüt / Net M2': '/ 80 m2',\n",
       " 'Bulunduğu Kat': 'Giriş Katı',\n",
       " 'Bina Yaşı': '25 Yaşında',\n",
       " 'Isınma Tipi': 'Kombi',\n",
       " 'Kat Sayısı': '4 Katlı',\n",
       " 'Eşya Durumu': 'Eşyalı',\n",
       " 'Banyo Sayısı': '1',\n",
       " 'Yapı Tipi': 'Betonarme',\n",
       " 'Yapının Durumu': 'İkinci El',\n",
       " 'Kullanım Durumu': 'Boş',\n",
       " 'Aidat': '1 TL',\n",
       " 'Cephe': 'Batı',\n",
       " 'Depozito': '8.000 TL',\n",
       " 'Yakıt Tipi': 'Doğalgaz',\n",
       " 'Yetkili Ofis': 'Evet'}"
      ]
     },
     "execution_count": 12,
     "metadata": {},
     "output_type": "execute_result"
    }
   ],
   "source": [
    "spec_groups = s_home.find(\"div\", class_=\"spec-groups\")\n",
    "spec_items = spec_groups.find_all(\"li\", class_=\"spec-item\")\n",
    "\n",
    "data = {}\n",
    "\n",
    "for item in spec_items:\n",
    "    key = item.find(\"span\", class_=\"txt\").text.strip()\n",
    "    value = item.find_all(\"span\")[-1].text.strip()\n",
    "    data[key] = value\n",
    "\n",
    "data\n",
    "# Extracting features"
   ]
  },
  {
   "cell_type": "code",
   "execution_count": 13,
   "metadata": {},
   "outputs": [
    {
     "data": {
      "text/html": [
       "<div>\n",
       "<style scoped>\n",
       "    .dataframe tbody tr th:only-of-type {\n",
       "        vertical-align: middle;\n",
       "    }\n",
       "\n",
       "    .dataframe tbody tr th {\n",
       "        vertical-align: top;\n",
       "    }\n",
       "\n",
       "    .dataframe thead th {\n",
       "        text-align: right;\n",
       "    }\n",
       "</style>\n",
       "<table border=\"1\" class=\"dataframe\">\n",
       "  <thead>\n",
       "    <tr style=\"text-align: right;\">\n",
       "      <th></th>\n",
       "      <th>İlan no</th>\n",
       "      <th>Son Güncelleme Tarihi</th>\n",
       "      <th>İlan Durumu</th>\n",
       "      <th>Konut Tipi</th>\n",
       "      <th>Konut Şekli</th>\n",
       "      <th>Oda + Salon Sayısı</th>\n",
       "      <th>Brüt / Net M2</th>\n",
       "      <th>Bulunduğu Kat</th>\n",
       "      <th>Bina Yaşı</th>\n",
       "      <th>Isınma Tipi</th>\n",
       "      <th>...</th>\n",
       "      <th>Eşya Durumu</th>\n",
       "      <th>Banyo Sayısı</th>\n",
       "      <th>Yapı Tipi</th>\n",
       "      <th>Yapının Durumu</th>\n",
       "      <th>Kullanım Durumu</th>\n",
       "      <th>Aidat</th>\n",
       "      <th>Cephe</th>\n",
       "      <th>Depozito</th>\n",
       "      <th>Yakıt Tipi</th>\n",
       "      <th>Yetkili Ofis</th>\n",
       "    </tr>\n",
       "  </thead>\n",
       "  <tbody>\n",
       "    <tr>\n",
       "      <th>0</th>\n",
       "      <td>146196-5</td>\n",
       "      <td>25-06-2024</td>\n",
       "      <td>İlan Durumu</td>\n",
       "      <td>Daire</td>\n",
       "      <td>Konut Şekli</td>\n",
       "      <td>2 + 1</td>\n",
       "      <td>/ 80 m2</td>\n",
       "      <td>Giriş Katı</td>\n",
       "      <td>25 Yaşında</td>\n",
       "      <td>Kombi</td>\n",
       "      <td>...</td>\n",
       "      <td>Eşyalı</td>\n",
       "      <td>1</td>\n",
       "      <td>Betonarme</td>\n",
       "      <td>İkinci El</td>\n",
       "      <td>Boş</td>\n",
       "      <td>1 TL</td>\n",
       "      <td>Batı</td>\n",
       "      <td>8.000 TL</td>\n",
       "      <td>Doğalgaz</td>\n",
       "      <td>Evet</td>\n",
       "    </tr>\n",
       "  </tbody>\n",
       "</table>\n",
       "<p>1 rows × 21 columns</p>\n",
       "</div>"
      ],
      "text/plain": [
       "    İlan no Son Güncelleme Tarihi  İlan Durumu Konut Tipi  Konut Şekli  \\\n",
       "0  146196-5            25-06-2024  İlan Durumu      Daire  Konut Şekli   \n",
       "\n",
       "  Oda + Salon Sayısı Brüt / Net M2 Bulunduğu Kat   Bina Yaşı Isınma Tipi  ...  \\\n",
       "0              2 + 1       / 80 m2    Giriş Katı  25 Yaşında       Kombi  ...   \n",
       "\n",
       "  Eşya Durumu Banyo Sayısı  Yapı Tipi Yapının Durumu Kullanım Durumu Aidat  \\\n",
       "0      Eşyalı            1  Betonarme      İkinci El             Boş  1 TL   \n",
       "\n",
       "  Cephe  Depozito Yakıt Tipi Yetkili Ofis  \n",
       "0  Batı  8.000 TL   Doğalgaz         Evet  \n",
       "\n",
       "[1 rows x 21 columns]"
      ]
     },
     "execution_count": 13,
     "metadata": {},
     "output_type": "execute_result"
    }
   ],
   "source": [
    "df = pd.DataFrame([data])\n",
    "df.to_csv(\"main.csv\",index=False)\n",
    "main = pd.read_csv(\"main.csv\")\n",
    "main\n",
    "# saving in csv file"
   ]
  },
  {
   "cell_type": "code",
   "execution_count": 14,
   "metadata": {},
   "outputs": [],
   "source": [
    "city=\"istanbul\"\n",
    "type_=\"kiralik\"\n",
    "max_page_num=5\n",
    "\n",
    "headers={\n",
    "    \"User-Agent\":\"Mozilla/5.0 (Windows NT 10.0; Win64; x64) AppleWebKit/537.36 (KHTML, like Gecko) Chrome/107.0.0.0 Safari/537.36\"\n",
    "}\n",
    "main=pd.DataFrame()\n",
    "main.to_csv(\"main.csv\",index=False)\n"
   ]
  },
  {
   "cell_type": "markdown",
   "metadata": {},
   "source": [
    "## Combining all thing we did above"
   ]
  },
  {
   "cell_type": "code",
   "execution_count": 15,
   "metadata": {},
   "outputs": [],
   "source": [
    "def scraping_hepsiemlak(city, type_=\"kiralik\", max_page_num=20):\n",
    "    counter = 1\n",
    "    df = pd.DataFrame()  # Initialize an empty DataFrame\n",
    "    \n",
    "    for page in range(max_page_num):\n",
    "        base_url = f\"https://www.hepsiemlak.com/{city}-{type_}?page={page+1}\"\n",
    "        response = requests.get(base_url, headers=headers)\n",
    "        time.sleep(0.1)\n",
    "        \n",
    "        if response.status_code == 200:\n",
    "            soup = BeautifulSoup(response.content, \"lxml\")\n",
    "            links = soup.find_all(\"a\", rel=\"bookmark\")\n",
    "            \n",
    "            for link in links:\n",
    "                home_url = \"https://www.hepsiemlak.com\" + link[\"href\"]\n",
    "                r_home = requests.get(home_url, headers=headers)\n",
    "                time.sleep(0.1)\n",
    "                \n",
    "                if r_home.status_code == 200:\n",
    "                    s_home = BeautifulSoup(r_home.content, \"lxml\")\n",
    "                    data = {}\n",
    "                    \n",
    "                    spec_groups = s_home.find(\"div\", class_=\"spec-groups\")\n",
    "                    if spec_groups:\n",
    "                        spec_items = spec_groups.find_all(\"li\", class_=\"spec-item\")\n",
    "                        for item in spec_items:\n",
    "                            key = item.find(\"span\", class_=\"txt\").text.strip()\n",
    "                            value = item.find_all(\"span\")[-1].text.strip()\n",
    "                            data[key] = value\n",
    "                    \n",
    "                    price = s_home.find(\"p\", class_=\"price\").text.strip()\n",
    "                    data[\"Price\"] = price\n",
    "                    data[\"ilce\"] = city\n",
    "                    \n",
    "                    # Append data to DataFrame\n",
    "                    temp = pd.DataFrame([data])\n",
    "                    if counter == 1:\n",
    "                        df = temp.copy()\n",
    "                        \n",
    "                    else:\n",
    "                        df = pd.concat([df, temp], ignore_index=True, sort=False)\n",
    "                    \n",
    "                    counter += 1\n",
    "                    \n",
    "                    if counter % 10 ==0:\n",
    "                        time.sleep(1)\n",
    "\n",
    "                elif r_home.status_code == 429:\n",
    "                    print(f\"Main Status Code: {r_home.status_code} for {home_url}\")\n",
    "                    time.sleep(60)                    \n",
    "                else:\n",
    "                    print(f\"Substatus Code: {r_home.status_code} for {home_url}\")\n",
    "                    time.sleep(1)  # Add a small delay between requests\n",
    "        elif response.status_code == 429:\n",
    "            print(f\"Main Status Code: {response.status_code} for {base_url}\")\n",
    "            time.sleep(60) \n",
    "\n",
    "        else:\n",
    "            print(f\"Main Status Code: {response.status_code} for {base_url}\")\n",
    "            time.sleep(1) \n",
    "            \n",
    "        \"\"\"# Optionally, write to CSV in batches or at the end of scraping\n",
    "        if (page + 1) % 3 == 0:  # Example: Write to CSV every 10 pages\n",
    "            main.to_csv(\"main.csv\", index=False)\"\"\"\n",
    "    \n",
    "    # Write remaining data to CSV at the end\n",
    "    return df"
   ]
  },
  {
   "cell_type": "markdown",
   "metadata": {},
   "source": [
    "## selecting city and state values"
   ]
  },
  {
   "cell_type": "code",
   "execution_count": 16,
   "metadata": {},
   "outputs": [],
   "source": [
    "session=HTMLSession()\n",
    "# while searching for states, server sends a dynamic get request to API therefore I will continue with HTMLSession now "
   ]
  },
  {
   "cell_type": "code",
   "execution_count": 17,
   "metadata": {},
   "outputs": [
    {
     "data": {
      "text/plain": [
       "200"
      ]
     },
     "execution_count": 17,
     "metadata": {},
     "output_type": "execute_result"
    }
   ],
   "source": [
    "r=session.get(f\"https://www.hepsiemlak.com/{type_}\")# https://www.hepsiemlak.com/kiralik\n",
    "r.status_code"
   ]
  },
  {
   "cell_type": "markdown",
   "metadata": {},
   "source": [
    "Extracting city names and urls"
   ]
  },
  {
   "cell_type": "code",
   "execution_count": 18,
   "metadata": {},
   "outputs": [],
   "source": [
    "elements = r.html.find(\"div.he-footer-links__link-list\")[0].find(\"a\")\n",
    "\n",
    "city_names = [el.text.split()[0] for el in elements]\n",
    "\n",
    "# Extract the city part from href for each element\n",
    "city_urls = [list(el.links)[0].split('/')[1].split('-')[0] for el in elements]\n",
    "\n",
    "city_data=pd.DataFrame()\n",
    "city_data[\"city_names\"]=city_names\n",
    "city_data[\"city_urls\"]=city_urls\n",
    "\n",
    "city_data.to_csv(\"cities.csv\",index=False)"
   ]
  },
  {
   "cell_type": "markdown",
   "metadata": {},
   "source": [
    "## lets extract ilce (state) urls"
   ]
  },
  {
   "cell_type": "code",
   "execution_count": 19,
   "metadata": {},
   "outputs": [],
   "source": [
    "city_data = pd.read_csv(\"cities.csv\")\n",
    "ilce_data = pd.DataFrame(columns=[\"ilce_names\", \"ilce_urls\", \"city_names\", \"city_urls\"])\n",
    "    \n",
    "for index, city in city_data.iterrows():\n",
    "    r = session.get(f\"https://www.hepsiemlak.com/api/county?cityUrl={city['city_urls']}\")\n",
    "    if r.status_code==200:\n",
    "        # Extract the list of ilçeler\n",
    "        ilce_listesi = r.json().get(\"values\", [])\n",
    "\n",
    "        # Create a list of ilçe names\n",
    "        ilce_names = [ilce['name'] for ilce in ilce_listesi]\n",
    "\n",
    "        # Create a list of ilçe URLs\n",
    "        ilce_urls = [ilce['url'] for ilce in ilce_listesi]\n",
    "\n",
    "        # Create a temporary DataFrame to hold the new rows\n",
    "        temp_df = pd.DataFrame({\n",
    "            \"ilce_names\": ilce_names,\n",
    "            \"ilce_urls\": ilce_urls,\n",
    "            \"city_names\": [city[\"city_names\"]] * len(ilce_names),\n",
    "            \"city_urls\": [city[\"city_urls\"]] * len(ilce_names)\n",
    "        })\n",
    "\n",
    "        # Concatenate the new rows with the existing DataFrame\n",
    "        ilce_data = pd.concat([ilce_data, temp_df], ignore_index=True)\n",
    "    else:\n",
    "        print(r.status_code)\n",
    "\n",
    "ilce_data.to_csv(\"ilce_data.csv\", index=False)"
   ]
  },
  {
   "cell_type": "code",
   "execution_count": 20,
   "metadata": {},
   "outputs": [],
   "source": [
    "session.close()"
   ]
  },
  {
   "cell_type": "markdown",
   "metadata": {},
   "source": [
    "### We have all needed informations now lets scrape the data"
   ]
  },
  {
   "cell_type": "code",
   "execution_count": 21,
   "metadata": {},
   "outputs": [
    {
     "data": {
      "text/html": [
       "<div>\n",
       "<style scoped>\n",
       "    .dataframe tbody tr th:only-of-type {\n",
       "        vertical-align: middle;\n",
       "    }\n",
       "\n",
       "    .dataframe tbody tr th {\n",
       "        vertical-align: top;\n",
       "    }\n",
       "\n",
       "    .dataframe thead th {\n",
       "        text-align: right;\n",
       "    }\n",
       "</style>\n",
       "<table border=\"1\" class=\"dataframe\">\n",
       "  <thead>\n",
       "    <tr style=\"text-align: right;\">\n",
       "      <th></th>\n",
       "      <th>ilce_names</th>\n",
       "      <th>ilce_urls</th>\n",
       "      <th>city_names</th>\n",
       "      <th>city_urls</th>\n",
       "    </tr>\n",
       "  </thead>\n",
       "  <tbody>\n",
       "    <tr>\n",
       "      <th>948</th>\n",
       "      <td>Girne</td>\n",
       "      <td>girne</td>\n",
       "      <td>K.K.T.C.</td>\n",
       "      <td>kktc</td>\n",
       "    </tr>\n",
       "    <tr>\n",
       "      <th>949</th>\n",
       "      <td>Güzelyurt</td>\n",
       "      <td>kktc-guzelyurt</td>\n",
       "      <td>K.K.T.C.</td>\n",
       "      <td>kktc</td>\n",
       "    </tr>\n",
       "    <tr>\n",
       "      <th>950</th>\n",
       "      <td>İskele</td>\n",
       "      <td>iskele</td>\n",
       "      <td>K.K.T.C.</td>\n",
       "      <td>kktc</td>\n",
       "    </tr>\n",
       "    <tr>\n",
       "      <th>951</th>\n",
       "      <td>Lefke</td>\n",
       "      <td>lefke</td>\n",
       "      <td>K.K.T.C.</td>\n",
       "      <td>kktc</td>\n",
       "    </tr>\n",
       "    <tr>\n",
       "      <th>952</th>\n",
       "      <td>Lefkoşa</td>\n",
       "      <td>lefkosa</td>\n",
       "      <td>K.K.T.C.</td>\n",
       "      <td>kktc</td>\n",
       "    </tr>\n",
       "  </tbody>\n",
       "</table>\n",
       "</div>"
      ],
      "text/plain": [
       "    ilce_names       ilce_urls city_names city_urls\n",
       "948      Girne           girne   K.K.T.C.      kktc\n",
       "949  Güzelyurt  kktc-guzelyurt   K.K.T.C.      kktc\n",
       "950     İskele          iskele   K.K.T.C.      kktc\n",
       "951      Lefke           lefke   K.K.T.C.      kktc\n",
       "952    Lefkoşa         lefkosa   K.K.T.C.      kktc"
      ]
     },
     "execution_count": 21,
     "metadata": {},
     "output_type": "execute_result"
    }
   ],
   "source": [
    "ilce_data=pd.read_csv(\"ilce_data.csv\")\n",
    "ilce_data.tail()"
   ]
  },
  {
   "cell_type": "code",
   "execution_count": 22,
   "metadata": {},
   "outputs": [
    {
     "data": {
      "text/plain": [
       "'atasehir'"
      ]
     },
     "execution_count": 22,
     "metadata": {},
     "output_type": "execute_result"
    }
   ],
   "source": [
    "ilce_data.loc[2,\"ilce_urls\"]"
   ]
  },
  {
   "cell_type": "code",
   "execution_count": 23,
   "metadata": {},
   "outputs": [
    {
     "name": "stdout",
     "output_type": "stream",
     "text": [
      "0\n",
      "Main Status Code: 429 for https://www.hepsiemlak.com/istanbul-adalar-nizam-kiralik/daire/142268-55\n"
     ]
    }
   ],
   "source": [
    "main=pd.DataFrame()\n",
    "for i , ilce in enumerate(ilce_data[\"ilce_urls\"]):\n",
    "    print(i)\n",
    "    result=scraping_hepsiemlak(city=ilce,type_=\"kiralik\",max_page_num=3)\n",
    "    main = pd.concat([main, result], ignore_index=True, sort=False)\n",
    "    main.to_csv(\"main.csv\",index=False)\n",
    "    "
   ]
  },
  {
   "cell_type": "code",
   "execution_count": null,
   "metadata": {},
   "outputs": [],
   "source": []
  },
  {
   "cell_type": "code",
   "execution_count": null,
   "metadata": {},
   "outputs": [],
   "source": []
  }
 ],
 "metadata": {
  "kernelspec": {
   "display_name": "base",
   "language": "python",
   "name": "python3"
  },
  "language_info": {
   "codemirror_mode": {
    "name": "ipython",
    "version": 3
   },
   "file_extension": ".py",
   "mimetype": "text/x-python",
   "name": "python",
   "nbconvert_exporter": "python",
   "pygments_lexer": "ipython3",
   "version": "3.10.13"
  }
 },
 "nbformat": 4,
 "nbformat_minor": 2
}

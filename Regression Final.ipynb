{
 "cells": [
  {
   "cell_type": "markdown",
   "id": "caee5f0c",
   "metadata": {},
   "source": [
    "# Regression Final Project"
   ]
  },
  {
   "cell_type": "markdown",
   "id": "f8ea4f28",
   "metadata": {},
   "source": [
    "### Importing Libs"
   ]
  },
  {
   "cell_type": "code",
   "execution_count": 1,
   "id": "780ec0af",
   "metadata": {},
   "outputs": [],
   "source": [
    "import numpy as np\n",
    "import pandas as pd\n",
    "from bs4 import BeautifulSoup\n",
    "import requests\n",
    "from csv import writer\n",
    "import re\n",
    "import seaborn as sns\n",
    "import matplotlib.pyplot as plt\n",
    "\n",
    "pd.set_option('display.max_columns',100)\n",
    "\n",
    "import warnings\n",
    "warnings.filterwarnings(\"ignore\")\n",
    "\n",
    "from sklearn.linear_model import LinearRegression\n",
    "from sklearn.linear_model import Ridge,Lasso\n",
    "from sklearn.linear_model import ElasticNet\n",
    "from sklearn.neighbors import KNeighborsRegressor\n",
    "from sklearn.ensemble import GradientBoostingRegressor\n",
    "gb=GradientBoostingRegressor()\n",
    "\n",
    "from sklearn.tree import ExtraTreeRegressor\n",
    "from sklearn.tree import DecisionTreeRegressor\n",
    "from xgboost import XGBRegressor\n",
    "from sklearn.model_selection import train_test_split\n",
    "from sklearn.metrics import mean_squared_error,r2_score,mean_absolute_error\n",
    "\n",
    "\n",
    "from tensorflow.keras.models import Sequential\n",
    "from tensorflow.keras.layers import Dense, Activation\n",
    "from tensorflow.keras.optimizers import Adam\n",
    "from sklearn.preprocessing import MinMaxScaler\n",
    "scaler = MinMaxScaler()\n",
    "\n",
    "from sklearn.model_selection import train_test_split\n",
    "from sklearn.metrics import r2_score"
   ]
  },
  {
   "cell_type": "markdown",
   "id": "5fe3343e",
   "metadata": {},
   "source": [
    "**Defination for Scrabing**"
   ]
  },
  {
   "cell_type": "code",
   "execution_count": 2,
   "id": "4226f120",
   "metadata": {},
   "outputs": [],
   "source": [
    "def house_scraping(url,csv):\n",
    "    #url = \"https://www.hepsiemlak.com/antalya-kiralik\"\n",
    "    page = requests.get(url)\n",
    "    \n",
    "    soup = BeautifulSoup(page.content,'html.parser')\n",
    "    lists = soup.find_all('li',class_=\"listing-item\")\n",
    "    \n",
    "    with open(csv,'a',encoding='utf8',newline='') as f:\n",
    "        csv_writer = writer(f)\n",
    "        header = ['Description','Weekend','Area','Age','Floor','Price']\n",
    "        csv_writer.writerow(header)\n",
    "        for list in lists:\n",
    "            description = list.find('header',class_ = 'list-view-header').text.replace('\\n','')\n",
    "            weekend = list.find('span',class_ = 'celly houseRoomCount').text.replace('\\n','')\n",
    "            area = list.find('span',class_ = 'celly squareMeter list-view-size').text.replace('\\n','')\n",
    "            age = list.find('span',class_ = 'celly buildingAge').text.replace('\\n','')\n",
    "            floor = list.find('span',class_ = 'celly floortype').text.replace('\\n','')\n",
    "            price = list.find('span',class_ = 'list-view-price').text.replace('\\n','')\n",
    "            info = [description,weekend,area,age,floor,price]\n",
    "            csv_writer.writerow(info)"
   ]
  },
  {
   "cell_type": "markdown",
   "id": "3b8c92c6",
   "metadata": {},
   "source": [
    "**Definiton for writing data to csv file**"
   ]
  },
  {
   "cell_type": "code",
   "execution_count": 3,
   "id": "8f5831e9",
   "metadata": {},
   "outputs": [],
   "source": [
    "def county(name,page):\n",
    "\n",
    "    for i in range(page):\n",
    "        if i == 0:\n",
    "            house_scraping(url=f\"https://www.hepsiemlak.com/{name}-kiralik\",csv=f\"hepsiemlak_{name}.csv\")\n",
    "        else:\n",
    "            house_scraping(url=f\"https://www.hepsiemlak.com/{name}-kiralik?page={i+1}\",csv=f\"hepsiemlak_{name}.csv\")\n"
   ]
  },
  {
   "cell_type": "markdown",
   "id": "7bd337c4",
   "metadata": {},
   "source": [
    "# Lets Scraping !"
   ]
  },
  {
   "cell_type": "code",
   "execution_count": 4,
   "id": "24eecd64",
   "metadata": {},
   "outputs": [
    {
     "data": {
      "text/html": [
       "<div>\n",
       "<style scoped>\n",
       "    .dataframe tbody tr th:only-of-type {\n",
       "        vertical-align: middle;\n",
       "    }\n",
       "\n",
       "    .dataframe tbody tr th {\n",
       "        vertical-align: top;\n",
       "    }\n",
       "\n",
       "    .dataframe thead th {\n",
       "        text-align: right;\n",
       "    }\n",
       "</style>\n",
       "<table border=\"1\" class=\"dataframe\">\n",
       "  <thead>\n",
       "    <tr style=\"text-align: right;\">\n",
       "      <th></th>\n",
       "      <th>Description</th>\n",
       "      <th>Weekend</th>\n",
       "      <th>Area</th>\n",
       "      <th>Age</th>\n",
       "      <th>Floor</th>\n",
       "      <th>Price</th>\n",
       "    </tr>\n",
       "  </thead>\n",
       "  <tbody>\n",
       "    <tr>\n",
       "      <th>0</th>\n",
       "      <td>NaN</td>\n",
       "      <td>5 + 1</td>\n",
       "      <td>330 m2</td>\n",
       "      <td>45 Yaşında</td>\n",
       "      <td>Bahçe Katı</td>\n",
       "      <td>155.000              TL</td>\n",
       "    </tr>\n",
       "    <tr>\n",
       "      <th>1</th>\n",
       "      <td>NaN</td>\n",
       "      <td>5 + 2</td>\n",
       "      <td>388 m2</td>\n",
       "      <td>10 Yaşında</td>\n",
       "      <td>NaN</td>\n",
       "      <td>77.500              TL</td>\n",
       "    </tr>\n",
       "    <tr>\n",
       "      <th>2</th>\n",
       "      <td>NaN</td>\n",
       "      <td>1 + 1</td>\n",
       "      <td>108 m2</td>\n",
       "      <td>5 Yaşında</td>\n",
       "      <td>Ara Kat</td>\n",
       "      <td>38.000              TL</td>\n",
       "    </tr>\n",
       "    <tr>\n",
       "      <th>3</th>\n",
       "      <td>NaN</td>\n",
       "      <td>4 + 2</td>\n",
       "      <td>520 m2</td>\n",
       "      <td>100 Yaşında</td>\n",
       "      <td>NaN</td>\n",
       "      <td>230.000              TL</td>\n",
       "    </tr>\n",
       "    <tr>\n",
       "      <th>4</th>\n",
       "      <td>NaN</td>\n",
       "      <td>5 + 2</td>\n",
       "      <td>385 m2</td>\n",
       "      <td>15 Yaşında</td>\n",
       "      <td>NaN</td>\n",
       "      <td>67.500              TL</td>\n",
       "    </tr>\n",
       "    <tr>\n",
       "      <th>...</th>\n",
       "      <td>...</td>\n",
       "      <td>...</td>\n",
       "      <td>...</td>\n",
       "      <td>...</td>\n",
       "      <td>...</td>\n",
       "      <td>...</td>\n",
       "    </tr>\n",
       "    <tr>\n",
       "      <th>1595</th>\n",
       "      <td>nüans'tan ortaköy'de i...</td>\n",
       "      <td>1 + 1</td>\n",
       "      <td>60 m2</td>\n",
       "      <td>40 Yaşında</td>\n",
       "      <td>Bahçe Katı</td>\n",
       "      <td>9.500              TL</td>\n",
       "    </tr>\n",
       "    <tr>\n",
       "      <th>1596</th>\n",
       "      <td>sisli near osmanbey me...</td>\n",
       "      <td>2 + 1</td>\n",
       "      <td>90 m2</td>\n",
       "      <td>15 Yaşında</td>\n",
       "      <td>3. Kat</td>\n",
       "      <td>25.000              TL</td>\n",
       "    </tr>\n",
       "    <tr>\n",
       "      <th>1597</th>\n",
       "      <td>imajplus'dan doğa şehi...</td>\n",
       "      <td>1 + 1</td>\n",
       "      <td>130 m2</td>\n",
       "      <td>Sıfır Bina</td>\n",
       "      <td>7. Kat</td>\n",
       "      <td>35.000              TL</td>\n",
       "    </tr>\n",
       "    <tr>\n",
       "      <th>1598</th>\n",
       "      <td>prizma'dan bebek'te mu...</td>\n",
       "      <td>3 + 1</td>\n",
       "      <td>200 m2</td>\n",
       "      <td>50 Yaşında</td>\n",
       "      <td>2. Kat</td>\n",
       "      <td>90.000              TL</td>\n",
       "    </tr>\n",
       "    <tr>\n",
       "      <th>1599</th>\n",
       "      <td>Description</td>\n",
       "      <td>Weekend</td>\n",
       "      <td>Area</td>\n",
       "      <td>Age</td>\n",
       "      <td>Floor</td>\n",
       "      <td>Price</td>\n",
       "    </tr>\n",
       "  </tbody>\n",
       "</table>\n",
       "<p>1600 rows × 6 columns</p>\n",
       "</div>"
      ],
      "text/plain": [
       "                                            Description  Weekend  \\\n",
       "0                                                   NaN    5 + 1   \n",
       "1                                                   NaN    5 + 2   \n",
       "2                                                   NaN    1 + 1   \n",
       "3                                                   NaN    4 + 2   \n",
       "4                                                   NaN    5 + 2   \n",
       "...                                                 ...      ...   \n",
       "1595                          nüans'tan ortaköy'de i...    1 + 1   \n",
       "1596                          sisli near osmanbey me...    2 + 1   \n",
       "1597                          imajplus'dan doğa şehi...    1 + 1   \n",
       "1598                          prizma'dan bebek'te mu...    3 + 1   \n",
       "1599                                        Description  Weekend   \n",
       "\n",
       "                                  Area          Age  \\\n",
       "0                               330 m2   45 Yaşında   \n",
       "1                               388 m2   10 Yaşında   \n",
       "2                               108 m2    5 Yaşında   \n",
       "3                               520 m2  100 Yaşında   \n",
       "4                               385 m2   15 Yaşında   \n",
       "...                                ...          ...   \n",
       "1595                             60 m2   40 Yaşında   \n",
       "1596                             90 m2   15 Yaşında   \n",
       "1597                            130 m2   Sıfır Bina   \n",
       "1598                            200 m2   50 Yaşında   \n",
       "1599                              Area          Age   \n",
       "\n",
       "                                 Floor                                  Price  \n",
       "0                           Bahçe Katı                155.000              TL  \n",
       "1                                  NaN                 77.500              TL  \n",
       "2                              Ara Kat                 38.000              TL  \n",
       "3                                  NaN                230.000              TL  \n",
       "4                                  NaN                 67.500              TL  \n",
       "...                                ...                                    ...  \n",
       "1595                        Bahçe Katı                  9.500              TL  \n",
       "1596                            3. Kat                 25.000              TL  \n",
       "1597                            7. Kat                 35.000              TL  \n",
       "1598                            2. Kat                 90.000              TL  \n",
       "1599                             Floor                                  Price  \n",
       "\n",
       "[1600 rows x 6 columns]"
      ]
     },
     "execution_count": 4,
     "metadata": {},
     "output_type": "execute_result"
    }
   ],
   "source": [
    "#county(\"istanbul\",10)#Write the city name and the number of advertisements on the site\n",
    "df = pd.read_csv(\"hepsiemlak_istanbul.csv\")\n",
    "df"
   ]
  },
  {
   "cell_type": "markdown",
   "id": "7cc34953",
   "metadata": {},
   "source": [
    "# EDA"
   ]
  },
  {
   "cell_type": "code",
   "execution_count": 5,
   "id": "f4663097",
   "metadata": {},
   "outputs": [
    {
     "name": "stdout",
     "output_type": "stream",
     "text": [
      "<class 'pandas.core.frame.DataFrame'>\n",
      "RangeIndex: 1600 entries, 0 to 1599\n",
      "Data columns (total 6 columns):\n",
      " #   Column       Non-Null Count  Dtype \n",
      "---  ------       --------------  ----- \n",
      " 0   Description  1540 non-null   object\n",
      " 1   Weekend      1600 non-null   object\n",
      " 2   Area         1600 non-null   object\n",
      " 3   Age          1600 non-null   object\n",
      " 4   Floor        1480 non-null   object\n",
      " 5   Price        1600 non-null   object\n",
      "dtypes: object(6)\n",
      "memory usage: 75.1+ KB\n"
     ]
    }
   ],
   "source": [
    "df.info()"
   ]
  },
  {
   "cell_type": "code",
   "execution_count": 6,
   "id": "10c69bac",
   "metadata": {},
   "outputs": [
    {
     "data": {
      "text/html": [
       "<div>\n",
       "<style scoped>\n",
       "    .dataframe tbody tr th:only-of-type {\n",
       "        vertical-align: middle;\n",
       "    }\n",
       "\n",
       "    .dataframe tbody tr th {\n",
       "        vertical-align: top;\n",
       "    }\n",
       "\n",
       "    .dataframe thead th {\n",
       "        text-align: right;\n",
       "    }\n",
       "</style>\n",
       "<table border=\"1\" class=\"dataframe\">\n",
       "  <thead>\n",
       "    <tr style=\"text-align: right;\">\n",
       "      <th></th>\n",
       "      <th>Description</th>\n",
       "      <th>Weekend</th>\n",
       "      <th>Area</th>\n",
       "      <th>Age</th>\n",
       "      <th>Floor</th>\n",
       "      <th>Price</th>\n",
       "    </tr>\n",
       "  </thead>\n",
       "  <tbody>\n",
       "    <tr>\n",
       "      <th>0</th>\n",
       "      <td>NaN</td>\n",
       "      <td>5 + 1</td>\n",
       "      <td>330 m2</td>\n",
       "      <td>45 Yaşında</td>\n",
       "      <td>Bahçe Katı</td>\n",
       "      <td>155.000              TL</td>\n",
       "    </tr>\n",
       "    <tr>\n",
       "      <th>1</th>\n",
       "      <td>NaN</td>\n",
       "      <td>5 + 2</td>\n",
       "      <td>388 m2</td>\n",
       "      <td>10 Yaşında</td>\n",
       "      <td>NaN</td>\n",
       "      <td>77.500              TL</td>\n",
       "    </tr>\n",
       "    <tr>\n",
       "      <th>2</th>\n",
       "      <td>NaN</td>\n",
       "      <td>1 + 1</td>\n",
       "      <td>108 m2</td>\n",
       "      <td>5 Yaşında</td>\n",
       "      <td>Ara Kat</td>\n",
       "      <td>38.000              TL</td>\n",
       "    </tr>\n",
       "    <tr>\n",
       "      <th>3</th>\n",
       "      <td>NaN</td>\n",
       "      <td>4 + 2</td>\n",
       "      <td>520 m2</td>\n",
       "      <td>100 Yaşında</td>\n",
       "      <td>NaN</td>\n",
       "      <td>230.000              TL</td>\n",
       "    </tr>\n",
       "    <tr>\n",
       "      <th>4</th>\n",
       "      <td>NaN</td>\n",
       "      <td>5 + 2</td>\n",
       "      <td>385 m2</td>\n",
       "      <td>15 Yaşında</td>\n",
       "      <td>NaN</td>\n",
       "      <td>67.500              TL</td>\n",
       "    </tr>\n",
       "  </tbody>\n",
       "</table>\n",
       "</div>"
      ],
      "text/plain": [
       "  Description Weekend                              Area          Age  \\\n",
       "0         NaN   5 + 1                            330 m2   45 Yaşında   \n",
       "1         NaN   5 + 2                            388 m2   10 Yaşında   \n",
       "2         NaN   1 + 1                            108 m2    5 Yaşında   \n",
       "3         NaN   4 + 2                            520 m2  100 Yaşında   \n",
       "4         NaN   5 + 2                            385 m2   15 Yaşında   \n",
       "\n",
       "                              Floor                                  Price  \n",
       "0                        Bahçe Katı                155.000              TL  \n",
       "1                               NaN                 77.500              TL  \n",
       "2                           Ara Kat                 38.000              TL  \n",
       "3                               NaN                230.000              TL  \n",
       "4                               NaN                 67.500              TL  "
      ]
     },
     "execution_count": 6,
     "metadata": {},
     "output_type": "execute_result"
    }
   ],
   "source": [
    "df.head()"
   ]
  },
  {
   "cell_type": "code",
   "execution_count": 8,
   "id": "54aeb47a",
   "metadata": {},
   "outputs": [
    {
     "data": {
      "text/plain": [
       "(1600, 6)"
      ]
     },
     "execution_count": 8,
     "metadata": {},
     "output_type": "execute_result"
    }
   ],
   "source": [
    "df.shape"
   ]
  },
  {
   "cell_type": "code",
   "execution_count": 9,
   "id": "21b5fd47",
   "metadata": {},
   "outputs": [
    {
     "data": {
      "text/plain": [
       "Description     60\n",
       "Weekend          0\n",
       "Area             0\n",
       "Age              0\n",
       "Floor          120\n",
       "Price            0\n",
       "dtype: int64"
      ]
     },
     "execution_count": 9,
     "metadata": {},
     "output_type": "execute_result"
    }
   ],
   "source": [
    "df.isnull().sum()"
   ]
  },
  {
   "cell_type": "markdown",
   "id": "92706520",
   "metadata": {},
   "source": [
    "# Feature Engineering"
   ]
  },
  {
   "cell_type": "code",
   "execution_count": 10,
   "id": "35561bcb",
   "metadata": {},
   "outputs": [],
   "source": [
    "df=df.drop_duplicates()"
   ]
  },
  {
   "cell_type": "code",
   "execution_count": 11,
   "id": "53d59975",
   "metadata": {},
   "outputs": [],
   "source": [
    "df['Area'] = df['Area'].astype('str').str.extractall('(\\d+)').unstack().fillna('').sum(axis=1).astype(int)\n",
    "#Removing everything just the digits are revealing on data"
   ]
  },
  {
   "cell_type": "code",
   "execution_count": 12,
   "id": "abb7cc19",
   "metadata": {},
   "outputs": [
    {
     "data": {
      "text/html": [
       "<div>\n",
       "<style scoped>\n",
       "    .dataframe tbody tr th:only-of-type {\n",
       "        vertical-align: middle;\n",
       "    }\n",
       "\n",
       "    .dataframe tbody tr th {\n",
       "        vertical-align: top;\n",
       "    }\n",
       "\n",
       "    .dataframe thead th {\n",
       "        text-align: right;\n",
       "    }\n",
       "</style>\n",
       "<table border=\"1\" class=\"dataframe\">\n",
       "  <thead>\n",
       "    <tr style=\"text-align: right;\">\n",
       "      <th></th>\n",
       "      <th>Description</th>\n",
       "      <th>Weekend</th>\n",
       "      <th>Area</th>\n",
       "      <th>Age</th>\n",
       "      <th>Floor</th>\n",
       "      <th>Price</th>\n",
       "    </tr>\n",
       "  </thead>\n",
       "  <tbody>\n",
       "    <tr>\n",
       "      <th>0</th>\n",
       "      <td>NaN</td>\n",
       "      <td>5 + 1</td>\n",
       "      <td>3302.0</td>\n",
       "      <td>45 Yaşında</td>\n",
       "      <td>Bahçe Katı</td>\n",
       "      <td>155.000              TL</td>\n",
       "    </tr>\n",
       "    <tr>\n",
       "      <th>1</th>\n",
       "      <td>NaN</td>\n",
       "      <td>5 + 2</td>\n",
       "      <td>3882.0</td>\n",
       "      <td>10 Yaşında</td>\n",
       "      <td>NaN</td>\n",
       "      <td>77.500              TL</td>\n",
       "    </tr>\n",
       "    <tr>\n",
       "      <th>2</th>\n",
       "      <td>NaN</td>\n",
       "      <td>1 + 1</td>\n",
       "      <td>1082.0</td>\n",
       "      <td>5 Yaşında</td>\n",
       "      <td>Ara Kat</td>\n",
       "      <td>38.000              TL</td>\n",
       "    </tr>\n",
       "    <tr>\n",
       "      <th>3</th>\n",
       "      <td>NaN</td>\n",
       "      <td>4 + 2</td>\n",
       "      <td>5202.0</td>\n",
       "      <td>100 Yaşında</td>\n",
       "      <td>NaN</td>\n",
       "      <td>230.000              TL</td>\n",
       "    </tr>\n",
       "    <tr>\n",
       "      <th>4</th>\n",
       "      <td>NaN</td>\n",
       "      <td>5 + 2</td>\n",
       "      <td>3852.0</td>\n",
       "      <td>15 Yaşında</td>\n",
       "      <td>NaN</td>\n",
       "      <td>67.500              TL</td>\n",
       "    </tr>\n",
       "  </tbody>\n",
       "</table>\n",
       "</div>"
      ],
      "text/plain": [
       "  Description Weekend    Area          Age                             Floor  \\\n",
       "0         NaN   5 + 1  3302.0   45 Yaşında                        Bahçe Katı   \n",
       "1         NaN   5 + 2  3882.0   10 Yaşında                               NaN   \n",
       "2         NaN   1 + 1  1082.0    5 Yaşında                           Ara Kat   \n",
       "3         NaN   4 + 2  5202.0  100 Yaşında                               NaN   \n",
       "4         NaN   5 + 2  3852.0   15 Yaşında                               NaN   \n",
       "\n",
       "                                   Price  \n",
       "0                155.000              TL  \n",
       "1                 77.500              TL  \n",
       "2                 38.000              TL  \n",
       "3                230.000              TL  \n",
       "4                 67.500              TL  "
      ]
     },
     "execution_count": 12,
     "metadata": {},
     "output_type": "execute_result"
    }
   ],
   "source": [
    "df.head()\n",
    "#Ohh we forgot the 2 from m^2 "
   ]
  },
  {
   "cell_type": "code",
   "execution_count": 13,
   "id": "90a44b49",
   "metadata": {},
   "outputs": [],
   "source": [
    "miss=df[\"Area\"].isnull()\n",
    "miss[miss==True],"
   ]
  },
  {
   "cell_type": "code",
   "execution_count": null,
   "id": "bde7f648",
   "metadata": {},
   "outputs": [],
   "source": [
    "df.drop(24,axis=0,inplace=True)"
   ]
  },
  {
   "cell_type": "code",
   "execution_count": 14,
   "id": "1b16e677",
   "metadata": {},
   "outputs": [],
   "source": [
    "df[\"Area\"]=df.Area/10\n",
    "df[\"Area\"]=df[\"Area\"].astype(int)"
   ]
  },
  {
   "cell_type": "code",
   "execution_count": 15,
   "id": "5339f145",
   "metadata": {},
   "outputs": [
    {
     "data": {
      "text/html": [
       "<div>\n",
       "<style scoped>\n",
       "    .dataframe tbody tr th:only-of-type {\n",
       "        vertical-align: middle;\n",
       "    }\n",
       "\n",
       "    .dataframe tbody tr th {\n",
       "        vertical-align: top;\n",
       "    }\n",
       "\n",
       "    .dataframe thead th {\n",
       "        text-align: right;\n",
       "    }\n",
       "</style>\n",
       "<table border=\"1\" class=\"dataframe\">\n",
       "  <thead>\n",
       "    <tr style=\"text-align: right;\">\n",
       "      <th></th>\n",
       "      <th>Description</th>\n",
       "      <th>Weekend</th>\n",
       "      <th>Area</th>\n",
       "      <th>Age</th>\n",
       "      <th>Floor</th>\n",
       "      <th>Price</th>\n",
       "    </tr>\n",
       "  </thead>\n",
       "  <tbody>\n",
       "    <tr>\n",
       "      <th>0</th>\n",
       "      <td>NaN</td>\n",
       "      <td>5 + 1</td>\n",
       "      <td>330</td>\n",
       "      <td>45 Yaşında</td>\n",
       "      <td>Bahçe Katı</td>\n",
       "      <td>155.000              TL</td>\n",
       "    </tr>\n",
       "    <tr>\n",
       "      <th>1</th>\n",
       "      <td>NaN</td>\n",
       "      <td>5 + 2</td>\n",
       "      <td>388</td>\n",
       "      <td>10 Yaşında</td>\n",
       "      <td>NaN</td>\n",
       "      <td>77.500              TL</td>\n",
       "    </tr>\n",
       "    <tr>\n",
       "      <th>2</th>\n",
       "      <td>NaN</td>\n",
       "      <td>1 + 1</td>\n",
       "      <td>108</td>\n",
       "      <td>5 Yaşında</td>\n",
       "      <td>Ara Kat</td>\n",
       "      <td>38.000              TL</td>\n",
       "    </tr>\n",
       "    <tr>\n",
       "      <th>3</th>\n",
       "      <td>NaN</td>\n",
       "      <td>4 + 2</td>\n",
       "      <td>520</td>\n",
       "      <td>100 Yaşında</td>\n",
       "      <td>NaN</td>\n",
       "      <td>230.000              TL</td>\n",
       "    </tr>\n",
       "    <tr>\n",
       "      <th>4</th>\n",
       "      <td>NaN</td>\n",
       "      <td>5 + 2</td>\n",
       "      <td>385</td>\n",
       "      <td>15 Yaşında</td>\n",
       "      <td>NaN</td>\n",
       "      <td>67.500              TL</td>\n",
       "    </tr>\n",
       "  </tbody>\n",
       "</table>\n",
       "</div>"
      ],
      "text/plain": [
       "  Description Weekend  Area          Age                             Floor  \\\n",
       "0         NaN   5 + 1   330   45 Yaşında                        Bahçe Katı   \n",
       "1         NaN   5 + 2   388   10 Yaşında                               NaN   \n",
       "2         NaN   1 + 1   108    5 Yaşında                           Ara Kat   \n",
       "3         NaN   4 + 2   520  100 Yaşında                               NaN   \n",
       "4         NaN   5 + 2   385   15 Yaşında                               NaN   \n",
       "\n",
       "                                   Price  \n",
       "0                155.000              TL  \n",
       "1                 77.500              TL  \n",
       "2                 38.000              TL  \n",
       "3                230.000              TL  \n",
       "4                 67.500              TL  "
      ]
     },
     "execution_count": 15,
     "metadata": {},
     "output_type": "execute_result"
    }
   ],
   "source": [
    "df.head()"
   ]
  },
  {
   "cell_type": "code",
   "execution_count": 16,
   "id": "af2f95fa",
   "metadata": {},
   "outputs": [
    {
     "data": {
      "text/plain": [
       "Description    10\n",
       "Weekend         0\n",
       "Area            0\n",
       "Age             0\n",
       "Floor          32\n",
       "Price           0\n",
       "dtype: int64"
      ]
     },
     "execution_count": 16,
     "metadata": {},
     "output_type": "execute_result"
    }
   ],
   "source": [
    "df.isnull().sum()"
   ]
  },
  {
   "cell_type": "code",
   "execution_count": 17,
   "id": "1f06840e",
   "metadata": {},
   "outputs": [
    {
     "data": {
      "text/plain": [
       "                      2. Kat             55\n",
       "                      3. Kat             50\n",
       "                      1. Kat             48\n",
       "                      4. Kat             46\n",
       "                      Ara Kat            28\n",
       "                      Bahçe Katı         25\n",
       "                      5. Kat             23\n",
       "                      Yüksek Giriş       19\n",
       "                      Giriş Katı         18\n",
       "                      En Üst Kat         13\n",
       "                      6. Kat             12\n",
       "                      9. Kat             11\n",
       "                      8. Kat             10\n",
       "                      11. Kat             9\n",
       "                      7. Kat              9\n",
       "                      21 ve üzeri         7\n",
       "                      10. Kat             6\n",
       "                      12. Kat             4\n",
       "                      Zemin               3\n",
       "                      Villa Katı          3\n",
       "                      16. Kat             3\n",
       "                      14. Kat             3\n",
       "                      Çatı Katı           3\n",
       "                      Kot 1               3\n",
       "                      Yarı Bodrum         3\n",
       "                      18. Kat             2\n",
       "                      13. Kat             2\n",
       "                      Kot 3               1\n",
       "                      19. Kat             1\n",
       "                      Kot 2               1\n",
       "                      15. Kat             1\n",
       "                      Bodrum ve Zemin     1\n",
       "Name: Floor, dtype: int64"
      ]
     },
     "execution_count": 17,
     "metadata": {},
     "output_type": "execute_result"
    }
   ],
   "source": [
    "df['Floor'].value_counts()"
   ]
  },
  {
   "cell_type": "code",
   "execution_count": 18,
   "id": "49105916",
   "metadata": {},
   "outputs": [],
   "source": [
    "df['Floor'].replace({\"                      Bodrum ve Zemin\":0,\"                      Zemin\":0,\"                      Yarı Bodrum\":0,\"                      Ara Kat\":2,\"                      Bahçe Katı\":0,\"                      Yüksek Giriş\":1,\"                      Giriş Katı\":0,\"                      En Üst Kat\":3,\"                      Villa Katı\":3,\"                      Çatı Katı\":3},inplace=True)"
   ]
  },
  {
   "cell_type": "code",
   "execution_count": 19,
   "id": "6c3f59ba",
   "metadata": {},
   "outputs": [],
   "source": [
    "df['Floor'] = df['Floor'].astype('str').str.extractall('(\\d+)').unstack().fillna('').sum(axis=1).astype(int)"
   ]
  },
  {
   "cell_type": "code",
   "execution_count": 20,
   "id": "645758b3",
   "metadata": {},
   "outputs": [],
   "source": [
    "df['Floor'].fillna((df['Floor'].mean()), inplace=True)"
   ]
  },
  {
   "cell_type": "code",
   "execution_count": 21,
   "id": "48951b25",
   "metadata": {},
   "outputs": [],
   "source": [
    "df['Floor']=df['Floor'].astype(int)"
   ]
  },
  {
   "cell_type": "code",
   "execution_count": 22,
   "id": "b400c683",
   "metadata": {},
   "outputs": [
    {
     "data": {
      "text/plain": [
       "3     102\n",
       "2      84\n",
       "1      70\n",
       "0      50\n",
       "4      46\n",
       "5      23\n",
       "6      12\n",
       "9      11\n",
       "8      10\n",
       "11      9\n",
       "7       9\n",
       "21      7\n",
       "10      6\n",
       "12      4\n",
       "14      3\n",
       "16      3\n",
       "18      2\n",
       "13      2\n",
       "19      1\n",
       "15      1\n",
       "Name: Floor, dtype: int64"
      ]
     },
     "execution_count": 22,
     "metadata": {},
     "output_type": "execute_result"
    }
   ],
   "source": [
    "df['Floor'].value_counts()"
   ]
  },
  {
   "cell_type": "code",
   "execution_count": 23,
   "id": "22c515b4",
   "metadata": {},
   "outputs": [
    {
     "data": {
      "text/plain": [
       "Sıfır Bina     42\n",
       "30 Yaşında     37\n",
       "25 Yaşında     32\n",
       "35 Yaşında     27\n",
       "10 Yaşında     24\n",
       "40 Yaşında     23\n",
       "15 Yaşında     22\n",
       "20 Yaşında     20\n",
       "5 Yaşında      18\n",
       "4 Yaşında      17\n",
       "1 Yaşında      14\n",
       "3 Yaşında      12\n",
       "2 Yaşında      10\n",
       "38 Yaşında     10\n",
       "6 Yaşında      10\n",
       "22 Yaşında     10\n",
       "11 Yaşında      9\n",
       "8 Yaşında       9\n",
       "16 Yaşında      9\n",
       "26 Yaşında      8\n",
       "50 Yaşında      8\n",
       "27 Yaşında      7\n",
       "33 Yaşında      7\n",
       "45 Yaşında      7\n",
       "32 Yaşında      6\n",
       "12 Yaşında      6\n",
       "7 Yaşında       6\n",
       "21 Yaşında      5\n",
       "9 Yaşında       5\n",
       "18 Yaşında      5\n",
       "55 Yaşında      4\n",
       "14 Yaşında      3\n",
       "24 Yaşında      3\n",
       "28 Yaşında      3\n",
       "23 Yaşında      3\n",
       "31 Yaşında      2\n",
       "17 Yaşında      2\n",
       "13 Yaşında      2\n",
       "19 Yaşında      2\n",
       "100 Yaşında     1\n",
       "42 Yaşında      1\n",
       "39 Yaşında      1\n",
       "29 Yaşında      1\n",
       "36 Yaşında      1\n",
       "47 Yaşında      1\n",
       "Name: Age, dtype: int64"
      ]
     },
     "execution_count": 23,
     "metadata": {},
     "output_type": "execute_result"
    }
   ],
   "source": [
    "df['Age'].value_counts()"
   ]
  },
  {
   "cell_type": "code",
   "execution_count": 24,
   "id": "27cf8153",
   "metadata": {},
   "outputs": [],
   "source": [
    "df['Age'].replace(\"Sıfır Bina\",0,inplace=True)"
   ]
  },
  {
   "cell_type": "code",
   "execution_count": 25,
   "id": "9b5aab23",
   "metadata": {},
   "outputs": [],
   "source": [
    "df['Age'] = df['Age'].astype('str').str.extractall('(\\d+)').unstack().fillna('').sum(axis=1).astype(int)"
   ]
  },
  {
   "cell_type": "code",
   "execution_count": 26,
   "id": "d035c966",
   "metadata": {},
   "outputs": [],
   "source": [
    "df['Age']=df['Age'].astype(int)"
   ]
  },
  {
   "cell_type": "code",
   "execution_count": 27,
   "id": "8a0e07ba",
   "metadata": {},
   "outputs": [
    {
     "data": {
      "text/plain": [
       "0      42\n",
       "30     37\n",
       "25     32\n",
       "35     27\n",
       "10     24\n",
       "40     23\n",
       "15     22\n",
       "20     20\n",
       "5      18\n",
       "4      17\n",
       "1      14\n",
       "3      12\n",
       "2      10\n",
       "38     10\n",
       "6      10\n",
       "22     10\n",
       "11      9\n",
       "8       9\n",
       "16      9\n",
       "26      8\n",
       "50      8\n",
       "27      7\n",
       "33      7\n",
       "45      7\n",
       "32      6\n",
       "12      6\n",
       "7       6\n",
       "21      5\n",
       "9       5\n",
       "18      5\n",
       "55      4\n",
       "14      3\n",
       "24      3\n",
       "28      3\n",
       "23      3\n",
       "31      2\n",
       "17      2\n",
       "13      2\n",
       "19      2\n",
       "100     1\n",
       "42      1\n",
       "39      1\n",
       "29      1\n",
       "36      1\n",
       "47      1\n",
       "Name: Age, dtype: int64"
      ]
     },
     "execution_count": 27,
     "metadata": {},
     "output_type": "execute_result"
    }
   ],
   "source": [
    "df['Age'].value_counts()"
   ]
  },
  {
   "cell_type": "code",
   "execution_count": 28,
   "id": "319036f3",
   "metadata": {},
   "outputs": [
    {
     "data": {
      "text/plain": [
       "              10.000              TL    24\n",
       "              15.000              TL    22\n",
       "              8.000              TL     18\n",
       "              25.000              TL    17\n",
       "              12.000              TL    17\n",
       "                                        ..\n",
       "              7.200              TL      1\n",
       "              34.490              TL     1\n",
       "              21.000              TL     1\n",
       "              28.000              TL     1\n",
       "              82.000              TL     1\n",
       "Name: Price, Length: 123, dtype: int64"
      ]
     },
     "execution_count": 28,
     "metadata": {},
     "output_type": "execute_result"
    }
   ],
   "source": [
    "df['Price'].value_counts()"
   ]
  },
  {
   "cell_type": "code",
   "execution_count": 29,
   "id": "60a5c545",
   "metadata": {},
   "outputs": [],
   "source": [
    "df['Price'] = df['Price'].astype('str').str.extractall('(\\d+)').unstack().fillna('').sum(axis=1).astype(int)\n",
    "df['Price']=df['Price'].astype(int)"
   ]
  },
  {
   "cell_type": "code",
   "execution_count": 30,
   "id": "81987bd1",
   "metadata": {},
   "outputs": [
    {
     "data": {
      "text/plain": [
       "Int64Index([  2750,   3000,   3100,   3500,   4000,   4500,   4850,   5000,\n",
       "              5500,   5900,\n",
       "            ...\n",
       "            100000, 110000, 120000, 135000, 150000, 155000, 200000, 210000,\n",
       "            230000, 255000],\n",
       "           dtype='int64', length=123)"
      ]
     },
     "execution_count": 30,
     "metadata": {},
     "output_type": "execute_result"
    }
   ],
   "source": [
    "df['Price'].value_counts().keys().sort_values(ascending=True)"
   ]
  },
  {
   "cell_type": "code",
   "execution_count": 31,
   "id": "e4b47a21",
   "metadata": {},
   "outputs": [
    {
     "data": {
      "text/html": [
       "<div>\n",
       "<style scoped>\n",
       "    .dataframe tbody tr th:only-of-type {\n",
       "        vertical-align: middle;\n",
       "    }\n",
       "\n",
       "    .dataframe tbody tr th {\n",
       "        vertical-align: top;\n",
       "    }\n",
       "\n",
       "    .dataframe thead th {\n",
       "        text-align: right;\n",
       "    }\n",
       "</style>\n",
       "<table border=\"1\" class=\"dataframe\">\n",
       "  <thead>\n",
       "    <tr style=\"text-align: right;\">\n",
       "      <th></th>\n",
       "      <th>Description</th>\n",
       "      <th>Weekend</th>\n",
       "      <th>Area</th>\n",
       "      <th>Age</th>\n",
       "      <th>Floor</th>\n",
       "      <th>Price</th>\n",
       "    </tr>\n",
       "  </thead>\n",
       "  <tbody>\n",
       "    <tr>\n",
       "      <th>0</th>\n",
       "      <td>NaN</td>\n",
       "      <td>5 + 1</td>\n",
       "      <td>330</td>\n",
       "      <td>45</td>\n",
       "      <td>0</td>\n",
       "      <td>155000</td>\n",
       "    </tr>\n",
       "    <tr>\n",
       "      <th>1</th>\n",
       "      <td>NaN</td>\n",
       "      <td>5 + 2</td>\n",
       "      <td>388</td>\n",
       "      <td>10</td>\n",
       "      <td>3</td>\n",
       "      <td>77500</td>\n",
       "    </tr>\n",
       "    <tr>\n",
       "      <th>2</th>\n",
       "      <td>NaN</td>\n",
       "      <td>1 + 1</td>\n",
       "      <td>108</td>\n",
       "      <td>5</td>\n",
       "      <td>2</td>\n",
       "      <td>38000</td>\n",
       "    </tr>\n",
       "    <tr>\n",
       "      <th>3</th>\n",
       "      <td>NaN</td>\n",
       "      <td>4 + 2</td>\n",
       "      <td>520</td>\n",
       "      <td>100</td>\n",
       "      <td>3</td>\n",
       "      <td>230000</td>\n",
       "    </tr>\n",
       "    <tr>\n",
       "      <th>4</th>\n",
       "      <td>NaN</td>\n",
       "      <td>5 + 2</td>\n",
       "      <td>385</td>\n",
       "      <td>15</td>\n",
       "      <td>3</td>\n",
       "      <td>67500</td>\n",
       "    </tr>\n",
       "  </tbody>\n",
       "</table>\n",
       "</div>"
      ],
      "text/plain": [
       "  Description Weekend  Area  Age  Floor   Price\n",
       "0         NaN   5 + 1   330   45      0  155000\n",
       "1         NaN   5 + 2   388   10      3   77500\n",
       "2         NaN   1 + 1   108    5      2   38000\n",
       "3         NaN   4 + 2   520  100      3  230000\n",
       "4         NaN   5 + 2   385   15      3   67500"
      ]
     },
     "execution_count": 31,
     "metadata": {},
     "output_type": "execute_result"
    }
   ],
   "source": [
    "df.head()"
   ]
  },
  {
   "cell_type": "code",
   "execution_count": 32,
   "id": "9dafe57d",
   "metadata": {},
   "outputs": [
    {
     "data": {
      "text/plain": [
       "Description    10\n",
       "Weekend         0\n",
       "Area            0\n",
       "Age             0\n",
       "Floor           0\n",
       "Price           0\n",
       "dtype: int64"
      ]
     },
     "execution_count": 32,
     "metadata": {},
     "output_type": "execute_result"
    }
   ],
   "source": [
    "df.isnull().sum()"
   ]
  },
  {
   "cell_type": "code",
   "execution_count": 33,
   "id": "cdcf6351",
   "metadata": {},
   "outputs": [
    {
     "data": {
      "text/plain": [
       "2 + 1     163\n",
       "3 + 1     154\n",
       "1 + 1      56\n",
       "4 + 1      24\n",
       "5 + 1      12\n",
       "4 + 2      12\n",
       "Stüdyo      8\n",
       "5 + 2       6\n",
       "3 + 2       6\n",
       "6 + 2       4\n",
       "2 + 2       3\n",
       "7 + 1       2\n",
       "6 + 1       2\n",
       "3 + 3       1\n",
       "14 + 3      1\n",
       "6 + 3       1\n",
       "Name: Weekend, dtype: int64"
      ]
     },
     "execution_count": 33,
     "metadata": {},
     "output_type": "execute_result"
    }
   ],
   "source": [
    "df[\"Weekend\"].value_counts()"
   ]
  },
  {
   "cell_type": "code",
   "execution_count": 34,
   "id": "36b179f9",
   "metadata": {},
   "outputs": [],
   "source": [
    "df['Weekend'] = df['Weekend'].astype('str').str.extractall('(\\d+)').unstack().fillna('').sum(axis=1).astype(int)\n",
    "df[\"Weekend\"].fillna(000.0,inplace=True)"
   ]
  },
  {
   "cell_type": "code",
   "execution_count": 35,
   "id": "e2dddc99",
   "metadata": {},
   "outputs": [],
   "source": [
    "df[\"Weekend\"]=df[\"Weekend\"].astype(int)\n"
   ]
  },
  {
   "cell_type": "code",
   "execution_count": 36,
   "id": "e56dd267",
   "metadata": {},
   "outputs": [
    {
     "data": {
      "text/html": [
       "<div>\n",
       "<style scoped>\n",
       "    .dataframe tbody tr th:only-of-type {\n",
       "        vertical-align: middle;\n",
       "    }\n",
       "\n",
       "    .dataframe tbody tr th {\n",
       "        vertical-align: top;\n",
       "    }\n",
       "\n",
       "    .dataframe thead th {\n",
       "        text-align: right;\n",
       "    }\n",
       "</style>\n",
       "<table border=\"1\" class=\"dataframe\">\n",
       "  <thead>\n",
       "    <tr style=\"text-align: right;\">\n",
       "      <th></th>\n",
       "      <th>Description</th>\n",
       "      <th>Weekend</th>\n",
       "      <th>Area</th>\n",
       "      <th>Age</th>\n",
       "      <th>Floor</th>\n",
       "      <th>Price</th>\n",
       "    </tr>\n",
       "  </thead>\n",
       "  <tbody>\n",
       "    <tr>\n",
       "      <th>0</th>\n",
       "      <td>NaN</td>\n",
       "      <td>51</td>\n",
       "      <td>330</td>\n",
       "      <td>45</td>\n",
       "      <td>0</td>\n",
       "      <td>155000</td>\n",
       "    </tr>\n",
       "    <tr>\n",
       "      <th>1</th>\n",
       "      <td>NaN</td>\n",
       "      <td>52</td>\n",
       "      <td>388</td>\n",
       "      <td>10</td>\n",
       "      <td>3</td>\n",
       "      <td>77500</td>\n",
       "    </tr>\n",
       "    <tr>\n",
       "      <th>2</th>\n",
       "      <td>NaN</td>\n",
       "      <td>11</td>\n",
       "      <td>108</td>\n",
       "      <td>5</td>\n",
       "      <td>2</td>\n",
       "      <td>38000</td>\n",
       "    </tr>\n",
       "    <tr>\n",
       "      <th>3</th>\n",
       "      <td>NaN</td>\n",
       "      <td>42</td>\n",
       "      <td>520</td>\n",
       "      <td>100</td>\n",
       "      <td>3</td>\n",
       "      <td>230000</td>\n",
       "    </tr>\n",
       "    <tr>\n",
       "      <th>4</th>\n",
       "      <td>NaN</td>\n",
       "      <td>52</td>\n",
       "      <td>385</td>\n",
       "      <td>15</td>\n",
       "      <td>3</td>\n",
       "      <td>67500</td>\n",
       "    </tr>\n",
       "  </tbody>\n",
       "</table>\n",
       "</div>"
      ],
      "text/plain": [
       "  Description  Weekend  Area  Age  Floor   Price\n",
       "0         NaN       51   330   45      0  155000\n",
       "1         NaN       52   388   10      3   77500\n",
       "2         NaN       11   108    5      2   38000\n",
       "3         NaN       42   520  100      3  230000\n",
       "4         NaN       52   385   15      3   67500"
      ]
     },
     "execution_count": 36,
     "metadata": {},
     "output_type": "execute_result"
    }
   ],
   "source": [
    "df.head()"
   ]
  },
  {
   "cell_type": "code",
   "execution_count": 37,
   "id": "d479e90f",
   "metadata": {},
   "outputs": [],
   "source": [
    "df.drop(\"Description\",axis=1,inplace=True)"
   ]
  },
  {
   "cell_type": "code",
   "execution_count": 38,
   "id": "082cfb18",
   "metadata": {},
   "outputs": [],
   "source": [
    "df[\"Weekend\"]=df[\"Weekend\"]*2\n",
    "df[\"Area\"]=df[\"Area\"]*2"
   ]
  },
  {
   "cell_type": "code",
   "execution_count": 39,
   "id": "71c93058",
   "metadata": {},
   "outputs": [],
   "source": [
    "df=pd.get_dummies(df)"
   ]
  },
  {
   "cell_type": "markdown",
   "id": "4e7e0851",
   "metadata": {},
   "source": [
    "# Lets Predict!!!"
   ]
  },
  {
   "cell_type": "code",
   "execution_count": 40,
   "id": "b62c56ba",
   "metadata": {},
   "outputs": [],
   "source": [
    "from sklearn.linear_model import LinearRegression\n",
    "from sklearn.linear_model import Ridge,Lasso\n",
    "from sklearn.linear_model import ElasticNet\n",
    "from sklearn.neighbors import KNeighborsRegressor\n",
    "from sklearn.ensemble import GradientBoostingRegressor\n",
    "from sklearn.tree import ExtraTreeRegressor\n",
    "from sklearn.tree import DecisionTreeRegressor\n",
    "from xgboost import XGBRegressor\n",
    "from sklearn.model_selection import train_test_split\n",
    "from sklearn.metrics import mean_squared_error,r2_score,mean_absolute_error"
   ]
  },
  {
   "cell_type": "code",
   "execution_count": 41,
   "id": "fc44fd6d",
   "metadata": {},
   "outputs": [],
   "source": [
    "lr = LinearRegression()\n",
    "R=Ridge()\n",
    "L=Lasso()\n",
    "E=ElasticNet(l1_ratio=0.8)\n",
    "ETR=ExtraTreeRegressor()\n",
    "GBR=GradientBoostingRegressor()\n",
    "KNR=KNeighborsRegressor(n_neighbors=10,weights=\"uniform\")"
   ]
  },
  {
   "cell_type": "code",
   "execution_count": 42,
   "id": "0601585c",
   "metadata": {},
   "outputs": [],
   "source": [
    "def algo_test(x,y):\n",
    "        L=LinearRegression()\n",
    "        R=Ridge()\n",
    "        Lass=Lasso()\n",
    "        E=ElasticNet()\n",
    "        ETR=ExtraTreeRegressor()\n",
    "        GBR=GradientBoostingRegressor()\n",
    "        kn=KNeighborsRegressor()\n",
    "        dt=DecisionTreeRegressor()\n",
    "        xgb=XGBRegressor()\n",
    "        \n",
    "        algos=[L,R,Lass,E,ETR,GBR,kn,dt,xgb]\n",
    "        algo_names=['Linear','Ridge','Lasso','ElasticNet','Extra Tree','Gradient Boosting','KNeighborsRegressor','Decision Tree','XGBRegressor']\n",
    "        \n",
    "        x_train, x_test, y_train, y_test=train_test_split(x,y,test_size=.2,random_state=42)\n",
    "        \n",
    "        r_squared= []\n",
    "        rmse= []\n",
    "        mae= []\n",
    "        \n",
    "        result=pd.DataFrame(columns=['R_Squared','RMSE','MAE'],index=algo_names)\n",
    "        \n",
    "        for algo in algos:\n",
    "            p=algo.fit(x_train,y_train).predict(x_test)\n",
    "            r_squared.append(r2_score(y_test,p))\n",
    "            rmse.append(mean_squared_error(y_test,p)**.5)\n",
    "            mae.append(mean_absolute_error(y_test,p))\n",
    "        \n",
    "        result.R_Squared=r_squared\n",
    "        result.RMSE=rmse\n",
    "        result.MAE=mae\n",
    "        \n",
    "        rtable=result.sort_values('R_Squared',ascending=False)\n",
    "        return rtable"
   ]
  },
  {
   "cell_type": "code",
   "execution_count": 43,
   "id": "8bb820f4",
   "metadata": {},
   "outputs": [],
   "source": [
    "x=df.drop(\"Price\",axis=1)\n",
    "y=df.Price"
   ]
  },
  {
   "cell_type": "code",
   "execution_count": 44,
   "id": "d2a6e708",
   "metadata": {},
   "outputs": [
    {
     "data": {
      "text/html": [
       "<div>\n",
       "<style scoped>\n",
       "    .dataframe tbody tr th:only-of-type {\n",
       "        vertical-align: middle;\n",
       "    }\n",
       "\n",
       "    .dataframe tbody tr th {\n",
       "        vertical-align: top;\n",
       "    }\n",
       "\n",
       "    .dataframe thead th {\n",
       "        text-align: right;\n",
       "    }\n",
       "</style>\n",
       "<table border=\"1\" class=\"dataframe\">\n",
       "  <thead>\n",
       "    <tr style=\"text-align: right;\">\n",
       "      <th></th>\n",
       "      <th>R_Squared</th>\n",
       "      <th>RMSE</th>\n",
       "      <th>MAE</th>\n",
       "    </tr>\n",
       "  </thead>\n",
       "  <tbody>\n",
       "    <tr>\n",
       "      <th>KNeighborsRegressor</th>\n",
       "      <td>0.561963</td>\n",
       "      <td>25213.072164</td>\n",
       "      <td>13306.263736</td>\n",
       "    </tr>\n",
       "    <tr>\n",
       "      <th>Linear</th>\n",
       "      <td>0.533253</td>\n",
       "      <td>26026.208858</td>\n",
       "      <td>13538.231023</td>\n",
       "    </tr>\n",
       "    <tr>\n",
       "      <th>Lasso</th>\n",
       "      <td>0.533253</td>\n",
       "      <td>26026.218142</td>\n",
       "      <td>13538.223022</td>\n",
       "    </tr>\n",
       "    <tr>\n",
       "      <th>Ridge</th>\n",
       "      <td>0.533253</td>\n",
       "      <td>26026.228590</td>\n",
       "      <td>13538.206133</td>\n",
       "    </tr>\n",
       "    <tr>\n",
       "      <th>ElasticNet</th>\n",
       "      <td>0.533119</td>\n",
       "      <td>26029.960206</td>\n",
       "      <td>13533.882499</td>\n",
       "    </tr>\n",
       "    <tr>\n",
       "      <th>Extra Tree</th>\n",
       "      <td>0.439997</td>\n",
       "      <td>28507.907333</td>\n",
       "      <td>12983.021978</td>\n",
       "    </tr>\n",
       "    <tr>\n",
       "      <th>XGBRegressor</th>\n",
       "      <td>0.372328</td>\n",
       "      <td>30181.212902</td>\n",
       "      <td>13256.055036</td>\n",
       "    </tr>\n",
       "    <tr>\n",
       "      <th>Gradient Boosting</th>\n",
       "      <td>0.362506</td>\n",
       "      <td>30416.430852</td>\n",
       "      <td>13961.598068</td>\n",
       "    </tr>\n",
       "    <tr>\n",
       "      <th>Decision Tree</th>\n",
       "      <td>0.093682</td>\n",
       "      <td>36266.923814</td>\n",
       "      <td>16187.857143</td>\n",
       "    </tr>\n",
       "  </tbody>\n",
       "</table>\n",
       "</div>"
      ],
      "text/plain": [
       "                     R_Squared          RMSE           MAE\n",
       "KNeighborsRegressor   0.561963  25213.072164  13306.263736\n",
       "Linear                0.533253  26026.208858  13538.231023\n",
       "Lasso                 0.533253  26026.218142  13538.223022\n",
       "Ridge                 0.533253  26026.228590  13538.206133\n",
       "ElasticNet            0.533119  26029.960206  13533.882499\n",
       "Extra Tree            0.439997  28507.907333  12983.021978\n",
       "XGBRegressor          0.372328  30181.212902  13256.055036\n",
       "Gradient Boosting     0.362506  30416.430852  13961.598068\n",
       "Decision Tree         0.093682  36266.923814  16187.857143"
      ]
     },
     "execution_count": 44,
     "metadata": {},
     "output_type": "execute_result"
    }
   ],
   "source": [
    "algo_test(x,y)"
   ]
  },
  {
   "cell_type": "code",
   "execution_count": null,
   "id": "94eda823",
   "metadata": {},
   "outputs": [],
   "source": []
  }
 ],
 "metadata": {
  "kernelspec": {
   "display_name": "Python 3 (ipykernel)",
   "language": "python",
   "name": "python3"
  },
  "language_info": {
   "codemirror_mode": {
    "name": "ipython",
    "version": 3
   },
   "file_extension": ".py",
   "mimetype": "text/x-python",
   "name": "python",
   "nbconvert_exporter": "python",
   "pygments_lexer": "ipython3",
   "version": "3.9.7"
  }
 },
 "nbformat": 4,
 "nbformat_minor": 5
}
